{
 "cells": [
  {
   "cell_type": "markdown",
   "metadata": {},
   "source": [
    "## 12.1 主成分分析"
   ]
  },
  {
   "cell_type": "markdown",
   "metadata": {},
   "source": [
    "主成分分析，或者称为PCA，是⼀种被⼴泛使⽤的技术，应⽤的领域包括维度降低、有损数据压缩、特征抽取、数据可视化，也被称为Karhunen-Loève变换。\n",
    "* 数据在低维度线性空间(主自空间)上的投影，且使得投影数据的方差被最大化\n",
    "* 使得数据点与它们投影之间的平均平方距离最小的线性投影"
   ]
  },
  {
   "cell_type": "markdown",
   "metadata": {},
   "source": [
    "### 12.1.1 最大方差形式\n",
    "考虑在⼀维空间(M = 1)上的投影,每个数据点$x_n$被投影到一个标量值$\\mu_1^Tx_n$上，投影后的均值为$\\mu_1^T\\overline x$\n",
    "$$\\overline x=\\frac{1}{N}\\sum_{n=1}^Nx_n$$\n",
    "投影数据的方差为:\n",
    "$$\\frac{1}{N}\\sum_{n=1}{N}\\{\\mu_1^Tx_n-\\mu_1^T\\overline x\\}^2=\\mu_1^TS\\mu_1$$\n",
    "$$S=\\frac{1}{N}\\sum_{n=1}^N（x_n-\\overline x)(x_n-\\overline x)^T$$\n",
    "\n",
    "在归一化条件$\\mu_1^T\\mu_1=1$下最大化投影方差:\n",
    "$$\\mu_1^TS\\mu_1+\\lambda_1(1-\\mu_1^T\\mu_1)$$\n",
    "对$\\mu_1$求导，求得驻点满足:\n",
    "$$S\\mu_1=\\lambda_1\\mu_1$$\n",
    "这说明$\\mu_1$是数据协方差矩阵的一个特征向量,那么特征值为:$\\lambda_1=\\mu_1^TS\\mu_1$\n",
    "推广开来，如果我们考虑M维投影空间的⼀般情形，那么最⼤化投影数据⽅差的最优线性投影由数据协⽅差矩阵$S$的M个特征向量$\\mu_1,...,\\mu_M$定义，对应于M个最⼤的特征值$\\lambda_1,...,\\lambda_M$。所以，主成分分析涉及到计算数据集的均值$\\overline x$和协⽅差矩阵$S$，然后寻找S的对应于M个最⼤特征值的M个特征向量。"
   ]
  },
  {
   "cell_type": "markdown",
   "metadata": {},
   "source": [
    "###  12.1.2最小误差形式"
   ]
  },
  {
   "cell_type": "markdown",
   "metadata": {},
   "source": [
    "引入D维基向量的一个完整的单位正交集合${\\mu_i},i=1,...,D$,满足$\\mu_i^T\\mu_j=\\delta_{ij}$\n",
    "每个数据点可以表示为基向量的线性组合$$x_n=\\sum_{i=1}^N\\alpha_{ni}\\mu_i$$\n",
    "这表示在由${\\mu_i}$定义的新坐标系上$\\{x_{n1},...,x_{nD}\\}\\rightarrow \\{\\alpha_{n1},...,\\alpha_{nD}\\}$\n",
    "$$x_n \\cdot u_j=\\sum_{i=1}^N\\alpha_{ni}\\mu_i \\cdot \\mu_j$$\n",
    "$$a_{nj}=x_n^T\\mu_j$$\n",
    "$$x_n=\\sum_{i=1}^D(x_n^T\\mu_i)\\mu_i$$"
   ]
  },
  {
   "cell_type": "markdown",
   "metadata": {},
   "source": [
    "我们的⽬标是使⽤限定数量M < D个变量的⼀种表⽰⽅法来近似数据点,M维线性⼦空间可以⽤前M个基向量表⽰,现在将每个数据点近似的写成$$\\tilde x_n=\\sum_{i=1}^M z_{ni}u_i+\\sum_{i=M+1}^D b_i\\mu_i$$\n",
    "\n",
    "其中$z_{ni}$依赖于特定的数据点，$b_i$是一个常数\n",
    "\n",
    "最小化目标为:$$J=\\frac{1}{N}\\sum_{n=1}^N\\lVert x_n-\\tilde x_n\\lVert^2$$\n",
    "\n",
    "对$z_{nj}$求驻点:$$z_{nj}=x_n^T\\mu_j$$\n",
    "对$b_j$求驻点$$b_j=\\overline x^T\\mu_j$$\n",
    "\n",
    "$$x_n-\\tilde x_n=\\sum_{i=M+1}^D\\{(x_n-\\overline x)^T\\mu_i\\}\\mu_i$$\n",
    "\n",
    "J被定义为失真度的度量\n",
    "$$J=\\frac{1}{N}\\sum_{n=1}^N\\sum_{i=M+1}^D(x_n^T\\mu_i-\\overline x^T\\mu_i)^2=\\sum_{i=M+1}^D\\mu_i^TS\\mu_i$$\n",
    "\n",
    "$$\\tilde J=\\mu_2^TS\\mu_2+\\lambda_2(1-\\mu_2^T\\mu_2)$$\n",
    "\n",
    "同样求$\\mu_2$的驻点我们有:$S\\mu_2=\\lambda_2\\mu_2$,将$\\mu_2$代入J中得到$J=\\lambda_2$,于是，我们通过将$\\mu_2$选择为对应于两个特征值中较⼩的那个特征值的特征向量，可以得到J的最⼩值。\n",
    "\n",
    "\n",
    "即为了最⼩化平均平⽅投影距离，我们应该将主\n",
    "成分⼦空间选为穿过数据点的均值并且与最⼤⽅差的⽅向对齐。对于特征值相等的情形，任何\n",
    "主⽅向的选择都会得到同样的J值。\n",
    "$$S\\mu_i=\\lambda_u\\mu_i$$\n",
    "$$J=\\sum_{i=M+1}^D\\lambda_i$$\n",
    "\n",
    "于是，我们可以通过将这些特征向量选择成$D − M$个\n",
    "最⼩的特征值对应的特征向量，来得到J的最⼩值，因此定义了主⼦空间的特征向量是对应\n",
    "于M个最⼤特征值的特征向量。"
   ]
  },
  {
   "cell_type": "markdown",
   "metadata": {},
   "source": [
    "### 12.1.2 PCA的应用\n",
    "* 数据压缩\n",
    "* 数据预处理，标准化数据集\n",
    "标准化的数据集的协方差矩阵元素为:\n",
    "$$\\rho_{ij}=\\frac{1}{N}\\sum_{n=1}^N\\frac{(x_{ni}-\\overline x_i)}{\\sigma_i}\\frac{(x_{nj}-\\overline x_j)}{\\sigma_j}$$\n",
    "然⽽，使⽤PCA，我们可以对数据进⾏更显著的归⼀化，得到零均值和单位⽅差的数据，从\n",
    "⽽不同的变量之间的相关性关系被消除。\n",
    "特征向量方程为:$$\\mathbf{SU}=\\mathbf{LU}$$其中$\\mathbf L$为$DXD$对角矩阵，$\\mathbf U $为$DXD$正交矩阵\n",
    "对每个数据点数据点$x_n$，应用一个变换$$y_n=L^{-\\frac{1}{2}}U^T(x_n-\\overline x)$$集合${y_n}$的均值为0,协方差为单位矩阵，该操作也被称为对数据的白化。"
   ]
  },
  {
   "cell_type": "code",
   "execution_count": 1,
   "metadata": {},
   "outputs": [],
   "source": [
    "import sys\n",
    "sys.path.append(r\"../\")\n",
    "import matplotlib.pyplot as plt\n",
    "import numpy as np\n",
    "from sklearn import datasets\n",
    "%matplotlib inline\n",
    "\n",
    "from prml.feature_extractions import Autoencoder, BayesianPCA, PCA\n",
    "\n",
    "np.random.seed(1234)"
   ]
  },
  {
   "cell_type": "code",
   "execution_count": 2,
   "metadata": {},
   "outputs": [
    {
     "data": {
      "image/png": "[encoded data removed]",
      "text/plain": [
       "<matplotlib.figure.Figure at 0x7f713c532978>"
      ]
     },
     "metadata": {},
     "output_type": "display_data"
    }
   ],
   "source": [
    "iris = datasets.load_iris()\n",
    "pca = PCA(n_components=2)\n",
    "Z = pca.fit_transform(iris.data)\n",
    "plt.scatter(Z[:, 0], Z[:, 1], c=iris.target)\n",
    "plt.gca().set_aspect('equal', adjustable='box')\n",
    "plt.show()"
   ]
  },
  {
   "cell_type": "markdown",
   "metadata": {},
   "source": [
    "### 12.1.4 高维数据的PAC\n",
    "N个数据点，D维空间，将$\\mathbf X$定义为(NxD)维中心数据矩阵，第n行为$(x_n-\\overline x)$,特征向量方程为:$$\\frac{1}{N}=\\mathbf X^T\\mathbf X\\mu_i=\\lambda_i\\mu_i$$\n",
    "$$\\frac{1}{N}=\\mathbf {XX^T}(\\mathbf X\\mu_i)=\\lambda_i(\\mathbf X\\mu_i)$$\n",
    "现在定义$\\nu_i=\\mathbf X\\nu_i$:\n",
    "$$\\frac{1}{N}\\mathbf {XX^T}\\nu_i=\\lambda_i\\nu_i$$\n",
    "这个矩阵与原始的协⽅差矩阵具有相同的N − 1个特征值，原始的协⽅差矩阵本⾝有额外的D − N + 1个值为零的特征值，可以先计算$\\mathbf{XX^T}$的特征向量$\\nu_i$\n",
    "再进行归一化:\n",
    "$$\\mu_i=\\frac{1}{(N\\lambda_i)^{\\frac{1}{2}}}\\mathbf X^T\\nu_i$$\n"
   ]
  },
  {
   "cell_type": "code",
   "execution_count": null,
   "metadata": {},
   "outputs": [],
   "source": []
  }
 ],
 "metadata": {
  "kernelspec": {
   "display_name": "Python 3",
   "language": "python",
   "name": "python3"
  },
  "language_info": {
   "codemirror_mode": {
    "name": "ipython",
    "version": 3
   },
   "file_extension": ".py",
   "mimetype": "text/x-python",
   "name": "python",
   "nbconvert_exporter": "python",
   "pygments_lexer": "ipython3",
   "version": "3.6.1"
  }
 },
 "nbformat": 4,
 "nbformat_minor": 2
}
