{
 "cells": [
  {
   "cell_type": "markdown",
   "metadata": {},
   "source": [
    "## 10.3变分线性回归"
   ]
  },
  {
   "cell_type": "markdown",
   "metadata": {},
   "source": [
    "<center>\n",
    "    <img src=\"../pic/10_8.png\" width=\"200\" height=\"200\">\n",
    "</center>\n",
    "\n",
    "在第3章讨论的线性回归中，w的似然函数为\n",
    "$$p(t|w)=\\sum_{n=1}^N\\mathcal N(t_n|w^T\\phi_n,\\beta^{-1})$$\n",
    "先验概率分布为$$p(w|\\alpha)=\\mathcal N(w|0,\\alpha^{-1}I)$$"
   ]
  },
  {
   "cell_type": "markdown",
   "metadata": {},
   "source": [
    "现在引入参数$\\alpha$的先验概率分布，即均值已知，方差未知服从Gamma分布$$p(\\alpha)=Gam(\\alpha|\\alpha_0,b_0)$$\n",
    "则联合概率分布可以写成$$p(t,w,\\alpha)=p(t|w)p(w|\\alpha)p(\\alpha)$$\n",
    "为了寻找后验概率分布$p(w,\\alpha|t)$的近似分布，分解变分后验概率分布:$$q(w,\\alpha)=q(w)q(\\alpha)$$"
   ]
  },
  {
   "cell_type": "markdown",
   "metadata": {},
   "source": [
    "由变分框架可得:\n",
    "$$\\begin{align}lnq^*(\\alpha)&=lnp(\\alpha)+\\mathbb E_w[lnp(w|\\alpha)]+const\\\\&=(\\alpha_0-1)ln\\alpha-b_0\\alpha+\\frac{M}{2}ln\\alpha-\\frac{\\alpha}{2}\\mathbb E[w^Tw]+const\\end{align}$$\n",
    "\n",
    "$$\\begin{align}lnq^*(w)&=lnp(t|w)+\\mathbb E_{\\alpha}[lnp(w|\\alpha)]+const\\\\&=-\\frac{\\beta}{2}\\sum_{n=1}^N\\{w^T\\phi_n-t_n\\}^2-\\frac{1}{2}\\mathbb E[\\alpha]w^Tw+const\\\\&=-\\frac{1}{2}w^T(\\mathbb E[\\alpha]I+\\beta\\Phi^T\\Phi)w+\\beta w^T\\Phi^Tt+const\\end{align}$$"
   ]
  },
  {
   "cell_type": "markdown",
   "metadata": {},
   "source": [
    "可以发现\n",
    "$$ q^*(\\alpha)=Gam(\\alpha|a_N,b_N)$$\n",
    "$$q^*(w)=\\mathcal N(w|m_N,S_N)$$"
   ]
  },
  {
   "cell_type": "markdown",
   "metadata": {},
   "source": [
    "更新规则 \n",
    "* 计算$\\alpha$,其中$\\alpha_N=\\alpha_0+\\frac{M}{2}$,每次更新该值固定\n",
    "* 计算$E[\\alpha]=\\frac{a_N}{b_N}$\n",
    "\n",
    "  更新$S_N=(\\mathbb E[\\alpha]I+\\beta\\Phi^T\\Phi)^{-1}$\n",
    "  \n",
    "  更新$m_N=\\beta S_N\\Phi^Tt$\n",
    "  \n",
    "  \n",
    "* 计算$E[w^Tw]=m_Nm_N^T+S_N$\n",
    "  \n",
    "  更新$b_N=b_0+\\frac{1}{2}\\mathbb E[w^Tw]$"
   ]
  },
  {
   "cell_type": "markdown",
   "metadata": {},
   "source": [
    "### 预测分布"
   ]
  },
  {
   "cell_type": "markdown",
   "metadata": {},
   "source": [
    "$$\\begin{align}p(t|\\mathbf x,\\mathbf t)&=\\int p(t|\\mathbf x,\\mathbf w)p(\\mathbf w|\\mathbf t)d\\mathbf w\\\\&=\\int p(t|\\mathbf x,\\mathbf w)q(\\mathbf w)d \\mathbf w \\\\&=\\int\\mathcal N(t|\\mathbf w^T\\phi(x),\\beta^{-1}\\mathcal N(\\mathbf w|m_N,S_N)d \\mathbf w\\\\&=\\mathcal N(t|m_N^T\\phi(x),\\sigma^2(\\mathbf x))\\end{align}$$\n",
    "\n",
    "其中:\n",
    "$$\\sigma^2(x)=\\frac{1}{\\beta}+\\phi(x)^TS_N\\phi(x)$$"
   ]
  },
  {
   "cell_type": "code",
   "execution_count": 1,
   "metadata": {},
   "outputs": [],
   "source": [
    "import sys\n",
    "#sys.path\n",
    "sys.path.append(\"../\")\n",
    "import matplotlib.animation as animation\n",
    "import matplotlib.pyplot as plt\n",
    "import numpy as np\n",
    "%matplotlib inline\n",
    "\n",
    "from prml.rv import VariationalGaussianMixture\n",
    "from prml.features import PolynomialFeatures\n",
    "from prml.linear import (\n",
    "    VariationalLinearRegressor,\n",
    "    VariationalLogisticRegressor\n",
    ")\n",
    "\n",
    "np.random.seed(666)"
   ]
  },
  {
   "cell_type": "code",
   "execution_count": 2,
   "metadata": {},
   "outputs": [],
   "source": [
    "def create_toy_data(func, sample_size, std, domain=[0, 1]):\n",
    "    x = np.linspace(domain[0], domain[1], sample_size)\n",
    "    np.random.shuffle(x)\n",
    "    t = func(x) + np.random.normal(scale=std, size=x.shape)\n",
    "    return x, t\n",
    "\n",
    "#3次立方插值\n",
    "def cubic(x):\n",
    "    return x * (x - 5) * (x + 5)\n",
    "\n",
    "x_train, y_train = create_toy_data(cubic, 10, 10., [-5, 5])\n",
    "x = np.linspace(-5, 5, 100)\n",
    "y = cubic(x)\n",
    "\n",
    "feature = PolynomialFeatures(degree=3)\n",
    "X_train = feature.transform(x_train)\n",
    "X = feature.transform(x)"
   ]
  },
  {
   "cell_type": "code",
   "execution_count": 3,
   "metadata": {},
   "outputs": [
    {
     "data": {
      "image/png": "[encoded data removed]",
      "text/plain": [
       "<matplotlib.figure.Figure at 0x7f72d95ee780>"
      ]
     },
     "metadata": {},
     "output_type": "display_data"
    }
   ],
   "source": [
    "vlr = VariationalLinearRegressor(beta=0.01)\n",
    "vlr.fit(X_train, y_train)\n",
    "y_mean, y_std = vlr.predict(X, return_std=True)\n",
    "plt.scatter(x_train, y_train, s=100, facecolor=\"none\", edgecolor=\"b\")\n",
    "plt.plot(x, y, c=\"g\", label=\"$\\sin(2\\pi x)$\")\n",
    "plt.plot(x, y_mean, c=\"r\", label=\"prediction\") \n",
    "plt.fill_between(x, y_mean - y_std, y_mean + y_std, alpha=0.5, color=\"pink\")\n",
    "plt.legend()\n",
    "plt.show()"
   ]
  }
 ],
 "metadata": {
  "kernelspec": {
   "display_name": "Python 3",
   "language": "python",
   "name": "python3"
  },
  "language_info": {
   "codemirror_mode": {
    "name": "ipython",
    "version": 3
   },
   "file_extension": ".py",
   "mimetype": "text/x-python",
   "name": "python",
   "nbconvert_exporter": "python",
   "pygments_lexer": "ipython3",
   "version": "3.6.1"
  }
 },
 "nbformat": 4,
 "nbformat_minor": 2
}
