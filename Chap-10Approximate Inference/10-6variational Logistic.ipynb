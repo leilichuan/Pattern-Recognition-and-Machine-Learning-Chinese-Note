{
 "cells": [
  {
   "cell_type": "markdown",
   "metadata": {},
   "source": [
    "## 10.6变分Logistic 回归"
   ]
  },
  {
   "cell_type": "markdown",
   "metadata": {},
   "source": [
    "选择$p(w)=\\mathcal N(w|m_0,S_0)$的高斯共轭先验，假定超参数已知"
   ]
  },
  {
   "cell_type": "markdown",
   "metadata": {},
   "source": [
    "边缘似然函数:$$p(t)=\\int \\bigg [\\prod_{n=1}^Np(t_n|w)\\bigg ]p(w)dw$$"
   ]
  },
  {
   "cell_type": "markdown",
   "metadata": {},
   "source": [
    "利用Logistic sigmoid函数的变分下界，t的条件概率可以写成\n",
    "$$p(t|w)=e^{at}\\sigma (-a)\\ge e^{at}a(\\xi)exp\\bigg\\{-\\frac{a+\\xi}{2}-\\lambda(\\xi)(a^2-\\xi^2)\\bigg \\}$$\n",
    "\n",
    "\n",
    "因此存在⼀个变分参数ξn，对应于训练集的每个观测$(\\phi_n; t_n)$。使⽤$a =w^T\\phi $，乘以先验概率分布，我们可以得到下⾯的t和w的联合概\n",
    "率分布。\n",
    "\n",
    "$$p(t,w)=p(t|w)p(w)\\ge h(w,\\xi)p(w)$$\n",
    "\n",
    "\n",
    "$$h(w,\\xi)=\\prod_{n=1}^N\\sigma(\\xi_n)exp\\{w^T\\phi_nt_n-(w^T\\phi_n+\\xi_n)/2-\\lambda(\\xi_n)([w^T\\phi_n]^2-\\xi^2_b)\\}$$\n",
    "\n",
    "代入$p(w)$得到变分后验概率分布的近似\n",
    "$$q(w)=\\mathcal(w|m_N,S_N)$$\n"
   ]
  },
  {
   "cell_type": "markdown",
   "metadata": {},
   "source": [
    "### 10.6.2最优化变分参数"
   ]
  },
  {
   "cell_type": "markdown",
   "metadata": {},
   "source": [
    "$$lnp(t)=ln\\int p(t|w)p(w)dw \\ge ln \\int h(w,\\xi)p(w)dw=\\mathcal L(\\xi)$$\n",
    "\n",
    "将$w$看作一个潜在变量，使用EM算法，用$\\xi^{old}$计算w上的后验概率分布，在最大化完整数据似然函数的期望\n",
    "$$Q(\\xi,\\xi^{old}）=\\mathbb E[ln\\{h(w,\\xi)p(w)\\}]$$\n",
    "代入$h(w,\\xi)$:\n",
    "$$Q(\\xi,\\xi^{old}=\\sum_{n=1}^N\\bigg \\{ln\\sigma(\\xi_n)-\\frac{\\xi_n}{2}-\\lambda(\\xi)(\\phi^T\\mathbb E[ww^T]\\phi_n-\\xi^2_n\\bigg\\}+const$$\n",
    "\n",
    "对$\\xi_n$求导再代入$\\sigma(\\xi)$和$\\lambda(\\xi)=\\frac{1}{2\\xi}[\\sigma(\\xi)-\\frac{1}{2}]$可求出$\\xi^{new}$"
   ]
  },
  {
   "cell_type": "markdown",
   "metadata": {},
   "source": [
    "计算如下:\n",
    "* 初始化变分参数$\\xi^{old}$\n",
    "* E-step:$$m_N=S_N(S_0^{-1}m_0+\\sum_{n=1}^N(t_n-\\frac{1}{2})\\phi_n)$$\n",
    "$$S_N^{-1}=S_0^{-1}+2\\sum_{n=1}^N\\lambda(\\xi_n)\\phi_n\\phi_n^T$$\n",
    "* M-step:\n",
    "$$(\\xi_n^{new})^2=\\phi_n^T\\mathbb E[ww^T]\\phi_n=\\phi_n^T(S_N+m_Nm_N^T)\\phi_n$$"
   ]
  },
  {
   "cell_type": "markdown",
   "metadata": {},
   "source": [
    "### 10.6.3超参数的推断"
   ]
  },
  {
   "cell_type": "markdown",
   "metadata": {},
   "source": [
    "$$p(w|\\alpha)-\\mathcal N(w|0,\\alpha^{-1}I)$$\n",
    "$$p(\\alpha)=Gam(\\alpha|a_0,b_0)$$\n",
    "边缘似然函数变为:\n",
    "$$\\begin{align}p(t)&=\\iint p(w,\\alpha,t)dwd\\alpha\\\\&=\\iint p(t|w)p(w|\\alpha)p(\\alpha)dwd\\alpha\\end{align}$$"
   ]
  },
  {
   "cell_type": "markdown",
   "metadata": {},
   "source": [
    "引入变分分布$q(w,\\alpha)$:\n",
    "\n",
    "$$\\mathcal L(q)=\\iint q(w,\\alpha)ln \\frac{p(w,\\alpha,t)}{q(w,\\alpha)}dwd\\alpha$$\n",
    "$$KL(q\\lVert p)=-\\iint q(w,\\alpha)ln(\\frac{p(w,\\alpha|t)}{q(w,\\alpha)}dwd\\alpha$$"
   ]
  },
  {
   "cell_type": "markdown",
   "metadata": {},
   "source": [
    "继续利用Logistic sigmoid函数的变分下界:\n",
    "$$lnp(t)\\ge\\mathcal L(q)\\ge\\tilde L(q,\\xi)=\\iint q(w,\\alpha)ln\\bigg\\{\\frac{h(w,\\xi)p(w,\\alpha)p(\\alpha)}{q(w,\\alpha)}\\bigg\\}dwd\\alpha $$"
   ]
  },
  {
   "cell_type": "markdown",
   "metadata": {},
   "source": [
    "假设变分分布可在参数和超参数上分解\n",
    "$$\\begin{align}lnq(w)&=\\mathbb E_{\\alpha}[ln\\{h(w,\\xi)p(w|\\alpha)p(\\alpha)\\}]+const\\\\&=lnh(w,\\xi)+\\mathbb E_{\\alpha}[lnp(w|\\alpha)]+const\\end{align}$$\n",
    "然后代入$h(w,\\xi)$,$p(w|\\alpha)$后得到关于w的二次函数，可看作高斯分布\n",
    "$$q(w)=\\mathcal N(w|\\mu_N,\\sigma_N)$$\n",
    "再次代入$p(\\alpha)$\n",
    "$$lnq(\\alpha)=\\mathbb E_{w}[lnp(w|\\alpha)]+lnp(\\alpha)+const$$\n",
    "结果为一个Gamma分布"
   ]
  },
  {
   "cell_type": "markdown",
   "metadata": {},
   "source": [
    "像上节一样使用EM算法更新参数\n",
    "*   初始化变分参数$\\xi^{old}$\n",
    "*   E-step:$$\\Sigma^{-1}_N\\mu_N=\\sum_{n=1}^N(t_n-\\frac{1}{2})\\phi_n$$\n",
    "$$\\Sigma^{-1}_N=\\mathbb E[\\alpha]I+2\\sum_{n=1}^N\\lambda(\\xi^{old})\\phi_n\\phi_n^T$$\n",
    "$$a_N=a_0+\\frac{M}{2}$$\n",
    "$$b_N=b_0+\\frac{1}{2}\\mathbb E_w[w^Tw]$$\n",
    "    其中: $$\\mathbb E[\\alpha]=\\frac{a_N}{b_N}$$\n",
    "$$\\mathbb E_w[w^Tw]=\\Sigma_N+\\mu\\mu_N^T$$ \n",
    "         \n",
    "*    M-step:$$(\\xi_n^{new})^2=\\phi^T_n(\\Sigma_N+\\mu_N\\mu_N^T)\\phi_n$$"
   ]
  },
  {
   "cell_type": "code",
   "execution_count": 1,
   "metadata": {},
   "outputs": [],
   "source": [
    "import sys\n",
    "#sys.path\n",
    "sys.path.append(\"../\")\n",
    "import matplotlib.animation as animation\n",
    "import matplotlib.pyplot as plt\n",
    "import numpy as np\n",
    "%matplotlib inline\n",
    "\n",
    "from prml.rv import VariationalGaussianMixture\n",
    "from prml.features import PolynomialFeatures\n",
    "from prml.linear import (\n",
    "    VariationalLinearRegressor,\n",
    "    VariationalLogisticRegressor\n",
    ")\n",
    "\n",
    "np.random.seed(666)"
   ]
  },
  {
   "cell_type": "code",
   "execution_count": 2,
   "metadata": {},
   "outputs": [],
   "source": [
    "def create_toy_data(add_outliers=False, add_class=False):\n",
    "    x0 = np.random.normal(size=50).reshape(-1, 2) - 3.\n",
    "    x1 = np.random.normal(size=50).reshape(-1, 2) + 3.\n",
    "    return np.concatenate([x0, x1]), np.concatenate([np.zeros(25), np.ones(25)]).astype(np.int)\n",
    "x_train, y_train = create_toy_data()\n",
    "x0, x1 = np.meshgrid(np.linspace(-7, 7, 100), np.linspace(-7, 7, 100))\n",
    "x = np.array([x0, x1]).reshape(2, -1).T\n",
    "feature = PolynomialFeatures(degree=1)\n",
    "X_train = feature.transform(x_train)\n",
    "X = feature.transform(x)"
   ]
  },
  {
   "cell_type": "code",
   "execution_count": 3,
   "metadata": {},
   "outputs": [
    {
     "data": {
      "image/png": "[encoded data removed]",
      "text/plain": [
       "<matplotlib.figure.Figure at 0x7ff478c0fe80>"
      ]
     },
     "metadata": {},
     "output_type": "display_data"
    }
   ],
   "source": [
    "vlr = VariationalLogisticRegressor()\n",
    "vlr.fit(X_train, y_train)\n",
    "y = vlr.proba(X).reshape(100, 100)\n",
    "plt.figure(figsize=(6,6))\n",
    "plt.scatter(x_train[:, 0], x_train[:, 1], c=y_train)\n",
    "plt.contourf(x0, x1, y, np.array([0., 0.01, 0.1, 0.25, 0.5, 0.75, 0.9, 0.99, 1.]), alpha=0.25)\n",
    "plt.colorbar()\n",
    "plt.xlim(-7, 7)\n",
    "plt.ylim(-7, 7)\n",
    "plt.gca().set_aspect('equal', adjustable='box')\n",
    "plt.show()"
   ]
  }
 ],
 "metadata": {
  "kernelspec": {
   "display_name": "Python 3",
   "language": "python",
   "name": "python3"
  },
  "language_info": {
   "codemirror_mode": {
    "name": "ipython",
    "version": 3
   },
   "file_extension": ".py",
   "mimetype": "text/x-python",
   "name": "python",
   "nbconvert_exporter": "python",
   "pygments_lexer": "ipython3",
   "version": "3.6.1"
  }
 },
 "nbformat": 4,
 "nbformat_minor": 2
}
