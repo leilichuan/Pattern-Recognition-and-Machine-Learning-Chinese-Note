{
 "cells": [
  {
   "cell_type": "markdown",
   "metadata": {},
   "source": [
    "# 附录 E：Lagrange 乘子"
   ]
  },
  {
   "cell_type": "markdown",
   "metadata": {},
   "source": [
    "## 等式约束下的拉格朗日乘子"
   ]
  },
  {
   "cell_type": "markdown",
   "metadata": {},
   "source": [
    "拉格朗日乘子（`Lagrange multipliers`），又叫不定乘子（`undetermined multipliers`），用于找到多变量函数在有约束条件下的驻点。\n",
    "\n",
    "考虑最大化函数 $f(x_1, x_2)$，约束条件为\n",
    "\n",
    "$$\n",
    "g(x_1, x_2) = 0\n",
    "$$\n",
    "\n",
    "一个可能的方法是通过这个约束求出 $x_2 = h(x_1)$ 再带入函数消去 $x_2$，但很多时候函数 $h$ 是很难找到的。\n",
    "\n",
    "一个更普遍和简单的方法是引入一个拉格朗日乘子 $\\lambda$。\n",
    "\n",
    "现在考虑一个 $D$ 维变量 $\\mathbf x$ 的优化问题：\n",
    "\n",
    "$$\n",
    "\\begin{align}\n",
    "\\max_{\\mathbf x}~& f(\\mathbf x) \\\\\n",
    "s.t.~& g(\\mathbf x) = 0\n",
    "\\end{align}\n",
    "$$\n",
    "\n",
    "$g(\\mathbf x) = 0$ 定义了空间中一个 $D-1$ 维的超平面。\n",
    "\n",
    "我们注意到，梯度 $\\triangledown g(\\mathbf x)$ 平行于这个超平面 $g(\\mathbf x) = 0$。\n",
    "\n",
    "考虑超平面上的两点 $\\mathbf x, \\mathbf{x+\\epsilon}$，做泰勒展开有：\n",
    "\n",
    "$$\n",
    "g(\\mathbf{x+\\epsilon}) \\approx g(\\mathbf{x}) + \\mathbf\\epsilon^{\\text{T}} \\triangledown g(\\mathbf x) \n",
    "$$\n",
    "\n",
    "因为它们都在超平面上，所以有 $\\mathbf\\epsilon^{\\text{T}} \\triangledown g(\\mathbf x) \\approx 0$，令 $\\|\\mathbf \\epsilon\\|\\to 0$，我们有 $\\mathbf\\epsilon^{\\text{T}} \\triangledown g(\\mathbf x) = 0$，而 $\\epsilon$ 平行于超平面，所以 $\\triangledown g(\\mathbf x)$ 平行于超平面。\n",
    "\n",
    "在这个超平面上，最大化 $f(\\mathbf x)$ 的点 $\\mathbf x^\\star$ 也需要满足 $\\triangledown f(\\mathbf x^\\star)$ 垂直于超平面 $g(\\mathbf x) = 0$，否则，我们总可以在这个超平面上移动一点距离使得 $f(\\mathbf x)$ 增大。\n",
    "\n",
    "因此 $\\triangledown f(\\mathbf x^\\star)$ 与 $\\triangledown g(\\mathbf x^\\star)$ 应当平行，这意味着存在 $\\lambda \\neq 0$，使得：\n",
    "\n",
    "$$\n",
    "\\triangledown f + \\lambda \\triangledown g = 0\n",
    "$$\n",
    "\n",
    "此时我们可以引入一个拉格朗日函数：\n",
    "\n",
    "$$\n",
    "L(\\mathbf x, \\lambda) \\equiv f(\\mathbf x) + \\lambda g(\\mathbf x)\n",
    "$$\n",
    "\n",
    "其驻点满足 $\\triangledown_x L = 0$ 即 $\n",
    "\\triangledown f + \\lambda \\triangledown g = 0\n",
    "$，以及偏导 $\\frac{\\partial L}{\\partial \\lambda}$ 使得 $g(\\mathbf x) = 0$。\n",
    "\n",
    "因此，问题转化为求这个拉格朗日函数的驻点 $(x^\\star, \\lambda)$。\n",
    "\n",
    "由于拉格朗日函数是无约束的，我们很容易通过求偏导得到驻点的值。"
   ]
  },
  {
   "cell_type": "code",
   "execution_count": 1,
   "metadata": {
    "collapsed": false
   },
   "outputs": [
    {
     "data": {
      "image/png": "[encoded data removed]",
      "text/plain": [
       "<matplotlib.figure.Figure at 0x7f6ba4e59110>"
      ]
     },
     "metadata": {},
     "output_type": "display_data"
    }
   ],
   "source": [
    "import matplotlib.pyplot as plt\n",
    "import numpy as np\n",
    "import scipy as sp\n",
    "\n",
    "%matplotlib inline\n",
    "\n",
    "fig, ax = plt.subplots()\n",
    "\n",
    "an = np.linspace(0, 2*np.pi, 100)\n",
    "\n",
    "xx, yy = -20 / (3 - np.cos(an)), -7 / (2 + np.sin(an)) + np.cos(an)\n",
    "\n",
    "ax.plot(xx, yy, 'r')\n",
    "\n",
    "ax.set_xlim(-11, -3)\n",
    "ax.set_ylim(-8, -1)\n",
    "\n",
    "x, y = xx[30], yy[30]\n",
    "\n",
    "ax.annotate(\"\",\n",
    "            xy=(x, y), \n",
    "            xytext=(x+0.4, y+1),\n",
    "            arrowprops=dict(arrowstyle=\"<-\",\n",
    "                            connectionstyle=\"arc3\")\n",
    "           )\n",
    "\n",
    "ax.annotate(\"\",\n",
    "            xy=(x, y), \n",
    "            xytext=(x-0.4, y-1),\n",
    "            arrowprops=dict(arrowstyle=\"<-\",\n",
    "                            connectionstyle=\"arc3\")\n",
    "           )\n",
    "\n",
    "ax.text(-5, -7, \"$g(\\mathbf{x}) = 0$\", fontsize=\"xx-large\")\n",
    "\n",
    "ax.text(x+0.5, y+1, r\"$\\triangledown f(\\mathbf{x})$\", fontsize=\"xx-large\")\n",
    "ax.text(x-0.8, y-1.5, r\"$\\triangledown g(\\mathbf{x})$\", fontsize=\"xx-large\")\n",
    "ax.text(x+0.2, y, '$x_A$', fontsize=\"xx-large\")\n",
    "\n",
    "ax.set_axis_off()\n",
    "\n",
    "ax.plot([x], [y], 'k.', linewidth=30)\n",
    "\n",
    "plt.show()"
   ]
  },
  {
   "cell_type": "markdown",
   "metadata": {},
   "source": [
    "## 例子"
   ]
  },
  {
   "cell_type": "markdown",
   "metadata": {},
   "source": [
    "考虑这样的问题：\n",
    "\n",
    "$$\n",
    "\\begin{align}\n",
    "\\max_{x_1, x_2}~& f(x_1, x_2)=1-x_1^2-x_2^2 \\\\\n",
    "s.t.~& g(x_1,x_2) = x_1 + x_2 - 1 = 0\n",
    "\\end{align}\n",
    "$$\n",
    "\n",
    "对应的拉格朗日函数为\n",
    "\n",
    "$$\n",
    "L(\\mathbf x, \\lambda) = 1-x_1^2-x_2^2 + \\lambda(x_1 + x_2 - 1)\n",
    "$$\n",
    "\n",
    "驻点满足：\n",
    "\n",
    "$$\n",
    "\\begin{align}\n",
    "-2x_1 + \\lambda & = 0\\\\\n",
    "-2x_2 + \\lambda & = 0\\\\\n",
    "x_1 + x_2 - 1 & = 0 \\\\\n",
    "\\end{align}\n",
    "$$\n",
    "\n",
    "因此得到 $(x_1^\\star, x_2^\\star)=(\\frac 1 2, \\frac 1 2)$，$\\lambda = 1$。"
   ]
  },
  {
   "cell_type": "code",
   "execution_count": 2,
   "metadata": {
    "collapsed": false
   },
   "outputs": [
    {
     "data": {
      "image/png": "[encoded data removed]",
      "text/plain": [
       "<matplotlib.figure.Figure at 0x7f6ba4d2fd50>"
      ]
     },
     "metadata": {},
     "output_type": "display_data"
    }
   ],
   "source": [
    "an = np.linspace(0, 2*np.pi, 100)\n",
    "\n",
    "xx = np.linspace(-1, 2)\n",
    "yy = 1 - xx\n",
    "\n",
    "fig, ax = plt.subplots()\n",
    "\n",
    "for i in xrange(1, 4):\n",
    "    ax.plot(i / np.sqrt(8.0) * np.cos(an), i / np.sqrt(8.0) * np.sin(an), 'b')\n",
    "\n",
    "ax.plot(xx, yy, 'r')    \n",
    "\n",
    "ax.axis('equal')\n",
    "\n",
    "ax.spines['right'].set_color('none')\n",
    "ax.spines['top'].set_color('none')\n",
    "\n",
    "ax.xaxis.set_ticks_position('bottom')\n",
    "ax.spines['bottom'].set_position(('data',0))\n",
    "\n",
    "ax.yaxis.set_ticks_position('left')\n",
    "ax.spines['left'].set_position(('data',0))\n",
    "\n",
    "ax.set_xticks([])\n",
    "ax.set_yticks([])\n",
    "\n",
    "ax.text(2.6, -0.2, \"$x_1$\", fontsize=\"xx-large\")\n",
    "ax.text(-0.3, 1.8, \"$x_2$\", fontsize=\"xx-large\")\n",
    "ax.text(1, -1.3, \"$g(x_1, x_2) = 0$\", fontsize=\"xx-large\")\n",
    "\n",
    "ax.annotate(r\"$(x_1^\\star, x_2^\\star)$\", \n",
    "            fontsize=\"xx-large\",\n",
    "            xytext=(1, 1), \n",
    "            xy=(0.5, 0.5),\n",
    "            arrowprops=dict(arrowstyle=\"->\",\n",
    "                            connectionstyle=\"arc3\")\n",
    "           )\n",
    "\n",
    "plt.show()"
   ]
  },
  {
   "cell_type": "markdown",
   "metadata": {},
   "source": [
    "## 带不等式约束的拉格朗日乘子"
   ]
  },
  {
   "cell_type": "markdown",
   "metadata": {},
   "source": [
    "现在考虑不等式约束的问题：\n",
    "\n",
    "$$\n",
    "\\begin{align}\n",
    "\\max_{\\mathbf x}~& f(\\mathbf x) \\\\\n",
    "s.t.~& g(\\mathbf x) \\geq 0\n",
    "\\end{align}\n",
    "$$\n",
    "\n",
    "分成两种情况考虑：\n",
    "\n",
    "- $g(\\mathbf x) < 0$，此时不等式约束不起作用（`inactive`），驻点的条件为 $\\triangledown f(\\mathbf x)=0$，因此必须有 $\\lambda=0$。\n",
    "\n",
    "\n",
    "- $g(\\mathbf x) = 0$，此时不等式约束起作用（`active`），驻点的条件为 $\\triangledown f(\\mathbf x) + \\lambda \\triangledown g(\\mathbf x)=0$，且 $\\lambda \\neq 0$。除此之外，$\\triangledown f(\\mathbf x)$ 应当与 $\\triangledown g(\\mathbf x)$ 的方向（指向 $g(\\mathbf x)>0$ 的区域）相反才能得到最大值（即 $f$ 的梯度方向要远离 $g(\\mathbf x)>0$ 的区域），因此我们必然有 $\\lambda > 0$。\n",
    "    \n",
    "在这两种情况下，我们都有 $\\lambda g(\\mathbf x) = 0$，因此问题转换为求解拉格朗日函数\n",
    "\n",
    "$$\n",
    "L(\\mathbf x, \\lambda) \\equiv f(\\mathbf x) + \\lambda g(\\mathbf x)\n",
    "$$\n",
    "\n",
    "在约束\n",
    "\n",
    "$$\n",
    "\\begin{align}\n",
    "g(\\mathbf x)&\\geq 0\\\\\n",
    "\\lambda &\\geq 0\\\\\n",
    "\\lambda g(\\mathbf x) &= 0\n",
    "\\end{align}\n",
    "$$\n",
    "\n",
    "下的驻点，这些条件就是著名的 KKT 条件。\n",
    "\n",
    "对于最小化问题，我们只需要将拉格朗日函数变为：\n",
    "\n",
    "$$\n",
    "L(\\mathbf x, \\lambda) \\equiv f(\\mathbf x) - \\lambda g(\\mathbf x)\n",
    "$$"
   ]
  },
  {
   "cell_type": "code",
   "execution_count": 3,
   "metadata": {
    "collapsed": false
   },
   "outputs": [
    {
     "data": {
      "image/png": "[encoded data removed]",
      "text/plain": [
       "<matplotlib.figure.Figure at 0x7f6ba4d4a710>"
      ]
     },
     "metadata": {},
     "output_type": "display_data"
    }
   ],
   "source": [
    "fig, ax = plt.subplots()\n",
    "\n",
    "an = np.linspace(0, 2*np.pi, 100)\n",
    "\n",
    "xx, yy = -20 / (3 - np.cos(an)), -7 / (2 + np.sin(an)) + np.cos(an)\n",
    "\n",
    "ax.plot(xx, yy, 'r')\n",
    "\n",
    "ax.fill(xx, yy, color='gold')\n",
    "\n",
    "ax.set_xlim(-11, -3)\n",
    "ax.set_ylim(-8, -1)\n",
    "\n",
    "x, y = xx[30], yy[30]\n",
    "\n",
    "ax.annotate(\"\",\n",
    "            xy=(x, y), \n",
    "            xytext=(x+0.4, y+1),\n",
    "            arrowprops=dict(arrowstyle=\"<-\",\n",
    "                            connectionstyle=\"arc3\")\n",
    "           )\n",
    "\n",
    "ax.annotate(\"\",\n",
    "            xy=(x, y), \n",
    "            xytext=(x-0.4, y-1),\n",
    "            arrowprops=dict(arrowstyle=\"<-\",\n",
    "                            connectionstyle=\"arc3\")\n",
    "           )\n",
    "\n",
    "ax.text(-5, -7, \"$g(\\mathbf{x}) = 0$\", fontsize=\"xx-large\")\n",
    "ax.text(-9, -3.5, \"$g(\\mathbf{x}) > 0$\", fontsize=\"xx-large\")\n",
    "\n",
    "ax.text(x+0.5, y+1, r\"$\\triangledown f(\\mathbf{x})$\", fontsize=\"xx-large\")\n",
    "ax.text(x-0.8, y-1.5, r\"$\\triangledown g(\\mathbf{x})$\", fontsize=\"xx-large\")\n",
    "ax.text(x+0.2, y, '$x_A$', fontsize=\"xx-large\")\n",
    "\n",
    "ax.plot([x], [y], 'k.', linewidth=30)\n",
    "\n",
    "ax.set_axis_off()\n",
    "\n",
    "plt.show()"
   ]
  },
  {
   "cell_type": "markdown",
   "metadata": {},
   "source": [
    "## 多约束问题"
   ]
  },
  {
   "cell_type": "markdown",
   "metadata": {},
   "source": [
    "考虑这个问题：\n",
    "\n",
    "$$\n",
    "\\begin{align}\n",
    "\\max_{\\mathbf x}~& f(\\mathbf x) &\\\\\n",
    "s.t.~& g_j(\\mathbf x) \\geq 0, &&j = 1,\\dots,J \\\\\n",
    "& h_k(\\mathbf x) \\geq 0, &&k = 1,\\dots,K \\\\\n",
    "\\end{align}\n",
    "$$\n",
    "\n",
    "很容易推广得到，拉格朗日函数为：\n",
    "\n",
    "$$\n",
    "\\begin{align}\n",
    "& L(\\mathbf {x, \\lambda, \\mu}) \\equiv f(\\mathbf x) + \\sum_{j=1}^J \\lambda_j g(\\mathbf x) + \\sum_{k=1}^K \\mu_k h(\\mathbf x) \\\\\n",
    "s.t.~& \\mu_k \\geq 0, \\mu_k h(\\mathbf x) = 0, k = 1,\\dots,K \n",
    "\\end{align}\n",
    "$$"
   ]
  }
 ],
 "metadata": {
  "kernelspec": {
   "display_name": "Python 2",
   "language": "python",
   "name": "python2"
  },
  "language_info": {
   "codemirror_mode": {
    "name": "ipython",
    "version": 2
   },
   "file_extension": ".py",
   "mimetype": "text/x-python",
   "name": "python",
   "nbconvert_exporter": "python",
   "pygments_lexer": "ipython2",
   "version": "2.7.6"
  }
 },
 "nbformat": 4,
 "nbformat_minor": 0
}
