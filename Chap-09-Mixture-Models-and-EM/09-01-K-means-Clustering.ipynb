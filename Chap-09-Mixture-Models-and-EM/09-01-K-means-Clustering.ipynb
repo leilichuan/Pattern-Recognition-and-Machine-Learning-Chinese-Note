{
 "cells": [
  {
   "cell_type": "markdown",
   "metadata": {},
   "source": [
    "# 9.1 K-means 聚类"
   ]
  },
  {
   "cell_type": "markdown",
   "metadata": {},
   "source": [
    "假设我们有一组 $D$ 维的数据 $\\{\\mathbf x_1,\\dots,\\mathbf x_N\\}$，我们的目的是将其分成 $K$ 类。\n",
    "\n",
    "直觉上，我们认为同一类数据点的类内距离应当比不同类数据点的类间聚类要小。因此，我们引入一组 $D$ 维向量 $\\mathbf \\mu_k, k=1,\\dots,K$，$\\mathbf\\mu_k$ 表示属于一个第 $k$ 类的样例（在之后的推导中知道，我们可以将 $\\mathbf \\mu_k$ 认为是每个类的中心点）。\n",
    "\n",
    "目标是找到数据点分别隶属的类，以及一组向量$\\{\\mu_k\\}$,使得每个数据点和与它最近的向量\n",
    "$\\mu_k$之间的距离的平方和最小,$r_{nk}\\in\\{0,1\\}$\n",
    "\n",
    "引入二值指示变量$r_{nk}\\in\\{0,1\\}$，1-of-k表示方式,目标函数:\n",
    "$$J=\\sum_{n=1}^N\\sum_{k=1}^Nr_{nk}\\Vert x_n-\\mu_k\\Vert^2$$\n",
    "\n",
    "首先，为$\\mu_k$选择初始值\n",
    "\n",
    "第一阶段，关于$r_{nk}$最小化J,保持$\\mu_k$固定\n",
    "$$r_{nk}=\\begin{cases}1&if& k=argmin_j\\Vert x_n-\\mu_j\\Vert^2\\\\0&otherwise\\end{cases}$$\n",
    "第二阶段，考虑$r_{nk}$固定时，关于$\\mu_k$最优化,令J对$\\mu_k$求导可得:\n",
    "$$\\mu_k=\\frac{\\sum_nr_{nk}x_n}{\\sum_nr_{nk}}$$\n",
    "即令$\\mu_k$等于类别k的所有数据点的均值"
   ]
  },
  {
   "cell_type": "code",
   "execution_count": 1,
   "metadata": {},
   "outputs": [],
   "source": [
    "import sys\n",
    "sys.path.append(r\"../\")\n",
    "import numpy as np\n",
    "import matplotlib.pyplot as plt\n",
    "from prml.clusterings import KMeans\n",
    "%matplotlib inline"
   ]
  },
  {
   "cell_type": "code",
   "execution_count": 2,
   "metadata": {},
   "outputs": [
    {
     "name": "stdout",
     "output_type": "stream",
     "text": [
      "(600, 2)\n"
     ]
    }
   ],
   "source": [
    "# training data\n",
    "x1 = np.random.normal(size=(200, 2))\n",
    "x1 += np.array([-3, -3])\n",
    "x2 = np.random.normal(size=(200, 2))\n",
    "x2 += np.array([3, -3])\n",
    "x3 = np.random.normal(size=(200, 2))\n",
    "x3 += np.array([0, 3])\n",
    "x_train = np.vstack((x1, x2, x3))\n",
    "print(x_train.shape)\n",
    "x0, x1 = np.meshgrid(np.linspace(-10, 10, 100), np.linspace(-10, 10, 100))\n",
    "x = np.array([x0, x1]).reshape(2, -1).T"
   ]
  },
  {
   "cell_type": "code",
   "execution_count": 3,
   "metadata": {},
   "outputs": [
    {
     "data": {
      "image/png": "[encoded data removed]",
      "text/plain": [
       "<matplotlib.figure.Figure at 0x7f4a45fdbc88>"
      ]
     },
     "metadata": {},
     "output_type": "display_data"
    }
   ],
   "source": [
    "kmeans = KMeans(n_clusters=3)\n",
    "kmeans.fit(x_train)\n",
    "cluster = kmeans.predict(x_train)\n",
    "plt.scatter(x_train[:, 0], x_train[:, 1], c=cluster)\n",
    "plt.scatter(kmeans.centers[:, 0], kmeans.centers[:, 1], s=200, marker='X', lw=2, c=['purple', 'cyan', 'yellow'], edgecolor=\"white\")\n",
    "plt.contourf(x0, x1, kmeans.predict(x).reshape(100, 100),alpha=0.15)\n",
    "plt.xlim(-10, 10)\n",
    "plt.ylim(-10, 10)\n",
    "plt.gca().set_aspect('equal', adjustable='box')"
   ]
  },
  {
   "cell_type": "code",
   "execution_count": 19,
   "metadata": {},
   "outputs": [
    {
     "data": {
      "text/plain": [
       "(600,)"
      ]
     },
     "execution_count": 19,
     "metadata": {},
     "output_type": "execute_result"
    }
   ],
   "source": [
    "kmeans.predict(x_train).shape"
   ]
  }
 ],
 "metadata": {
  "kernelspec": {
   "display_name": "Python 3",
   "language": "python",
   "name": "python3"
  },
  "language_info": {
   "codemirror_mode": {
    "name": "ipython",
    "version": 3
   },
   "file_extension": ".py",
   "mimetype": "text/x-python",
   "name": "python",
   "nbconvert_exporter": "python",
   "pygments_lexer": "ipython3",
   "version": "3.6.1"
  }
 },
 "nbformat": 4,
 "nbformat_minor": 2
}
