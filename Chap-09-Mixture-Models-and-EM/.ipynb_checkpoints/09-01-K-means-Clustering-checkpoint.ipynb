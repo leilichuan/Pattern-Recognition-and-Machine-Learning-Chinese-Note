{
 "cells": [
  {
   "cell_type": "markdown",
   "metadata": {},
   "source": [
    "# 9.1 K-means 聚类"
   ]
  },
  {
   "cell_type": "markdown",
   "metadata": {},
   "source": [
    "假设我们有一组 $D$ 维的数据 $\\{\\mathbf x_1,\\dots,\\mathbf x_N\\}$，我们的目的是将其分成 $K$ 类。\n",
    "\n",
    "直觉上，我们认为同一类数据点的类内距离应当比不同类数据点的类间聚类要小。因此，我们引入一组 $D$ 维向量 $\\mathbf \\mu_k, k=1,\\dots,K$，$\\mathbf\\mu_k$ 表示属于一个第 $k$ 类的样例（在之后的推导中知道，我们可以将 $\\mathbf \\mu_k$ 认为是每个类的中心点）。\n",
    "\n"
   ]
  },
  {
   "cell_type": "code",
   "execution_count": null,
   "metadata": {
    "collapsed": true
   },
   "outputs": [],
   "source": []
  },
  {
   "cell_type": "code",
   "execution_count": null,
   "metadata": {
    "collapsed": true
   },
   "outputs": [],
   "source": []
  },
  {
   "cell_type": "code",
   "execution_count": null,
   "metadata": {
    "collapsed": true
   },
   "outputs": [],
   "source": []
  }
 ],
 "metadata": {
  "kernelspec": {
   "display_name": "Python 3",
   "language": "python",
   "name": "python3"
  },
  "language_info": {
   "codemirror_mode": {
    "name": "ipython",
    "version": 3
   },
   "file_extension": ".py",
   "mimetype": "text/x-python",
   "name": "python",
   "nbconvert_exporter": "python",
   "pygments_lexer": "ipython3",
   "version": "3.6.1"
  }
 },
 "nbformat": 4,
 "nbformat_minor": 1
}
