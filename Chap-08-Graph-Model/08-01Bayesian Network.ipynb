{
 "cells": [
  {
   "cell_type": "markdown",
   "metadata": {},
   "source": [
    "## 8.概率图模型\n",
    "+ 每个定点对应联合分布中的一个随机变量\n",
    "\n",
    "+ 有向图（Bayesian network),对于任意一个点$X_i$,设其父节点集合为$pa_i$,那么对于该联合变量来说，给定$pa_i$后，$x_i$与任意非其子节点的点条件独立\n",
    "\n",
    "+ 无向图（Markov network),对任意一条边$(x_i,x_j)$，对于其联合分布，当给定除这两个点之外的节点$(x\\{x_i,x_j\\})$后，$x_i$与$x_j$不条件独立"
   ]
  },
  {
   "cell_type": "markdown",
   "metadata": {},
   "source": [
    "## 8.2条件独立\n",
    "+ tail to tail 给定c的条件下,a,b独立\n",
    "+ head to tail 给定c的条件下,a,b独立\n",
    "+ head to head c未被观测时,a,b独立;给定c的条件下,a,b不独立"
   ]
  },
  {
   "cell_type": "markdown",
   "metadata": {},
   "source": [
    "### d-划分\n",
    "⼀个结点满⾜下⾯两个性质中的任何⼀个则成为路径被“阻隔”:\n",
    "+ 路径上的箭头以头到尾或者尾到尾的⽅式交汇于这个结点，且这个结点在集合C中\n",
    "+ 箭头以头到头的⽅式交汇于这个结点，且这个结点和它的所有后继都不在集合C中"
   ]
  },
  {
   "cell_type": "code",
   "execution_count": null,
   "metadata": {
    "collapsed": true
   },
   "outputs": [],
   "source": []
  }
 ],
 "metadata": {
  "kernelspec": {
   "display_name": "Python 3",
   "language": "python",
   "name": "python3"
  },
  "language_info": {
   "codemirror_mode": {
    "name": "ipython",
    "version": 3
   },
   "file_extension": ".py",
   "mimetype": "text/x-python",
   "name": "python",
   "nbconvert_exporter": "python",
   "pygments_lexer": "ipython3",
   "version": "3.6.1"
  }
 },
 "nbformat": 4,
 "nbformat_minor": 2
}
