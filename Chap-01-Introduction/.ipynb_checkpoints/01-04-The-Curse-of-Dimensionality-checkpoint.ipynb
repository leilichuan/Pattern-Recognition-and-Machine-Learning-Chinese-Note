{
 "cells": [
  {
   "cell_type": "markdown",
   "metadata": {},
   "source": [
    "# 1.4 维数灾难"
   ]
  },
  {
   "cell_type": "markdown",
   "metadata": {},
   "source": [
    "我们在多项式拟合问题中只考虑了 $x$ 是一维变量的结果，但事实上 $x$ 的维度可能远远不止一维，考虑一个 $D$ 维的输入 $\\mathbf x$ 并且选择阶数 $M = 3$，那么我们有\n",
    "\n",
    "$$\n",
    "y(\\mathbf{x, w}) = w_0 + \\sum_{i=1}^D w_ix_i + \\sum_{i=1}^D \\sum_{j=1}^D w_{ij} x_ix_j + \\sum_{i=1}^D \\sum_{j=1}^D \\sum_{k=1}^D w_{ij} x_ix_jw_k\n",
    "$$\n",
    "\n",
    "可以看到，随着 $D$ 的增大，独立参数的个数也增大到 $D^3$ 的量级。对于 $M$ 阶的多项式，系数的量级将变成 $D^M$。\n",
    "\n",
    "也就是说，随着 $D$ 的增大，独立参数的数目呈幂数增长。"
   ]
  }
 ],
 "metadata": {
  "kernelspec": {
   "display_name": "Python 2",
   "language": "python",
   "name": "python2"
  },
  "language_info": {
   "codemirror_mode": {
    "name": "ipython",
    "version": 2
   },
   "file_extension": ".py",
   "mimetype": "text/x-python",
   "name": "python",
   "nbconvert_exporter": "python",
   "pygments_lexer": "ipython2",
   "version": "2.7.6"
  }
 },
 "nbformat": 4,
 "nbformat_minor": 0
}
