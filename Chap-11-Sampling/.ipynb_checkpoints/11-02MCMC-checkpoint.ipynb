{
 "cells": [
  {
   "cell_type": "markdown",
   "metadata": {},
   "source": [
    "## 11.2马尔科夫链蒙特卡罗"
   ]
  },
  {
   "cell_type": "markdown",
   "metadata": {},
   "source": [
    "马尔科夫链定义本身比较简单，它假设某一时刻状态转移的概率只依赖于它的前一个状态。\n",
    "$$p(z^{(m+1)}|z^{(1)},...,z^{(m)})=p(z^{(m+1)}|z^{(m)})$$"
   ]
  },
  {
   "cell_type": "markdown",
   "metadata": {},
   "source": [
    "对于⼀个特定的变量，边缘概率可以根据前⼀个变量的边缘概率⽤链式乘积的⽅式表⽰出来\n",
    "$$p(z^{(m+1)})=\\sum_{z^{(m)}}p(z^{(m+1)}|z^{(m)})p(z^{(m)})$$"
   ]
  },
  {
   "cell_type": "markdown",
   "metadata": {},
   "source": [
    "对于一个转移概率为$t(z',z)$的同质马尔科夫链来说，如果:\n",
    "$$P^*(z)=\\sum_{z'}T(z',z)p^*(z')$$\n",
    "那么P^*(z)是不变的，它的一个充分非必要条件是概率转移矩阵满足细节平衡条件$$P^*(z)T(z,z')=P^*(z')T(z',z)$$"
   ]
  },
  {
   "cell_type": "markdown",
   "metadata": {},
   "source": [
    "构造一个马尔科夫链使得所求的概率分布是不变的，然后从中采样，对于$m\\rightarrow\\infty$，概率分布$p(z^{(m)})$收敛到平稳不变的概率分布$p^*(z)$,与初始概率分布$p(z^{(0)})$无关"
   ]
  },
  {
   "cell_type": "code",
   "execution_count": 25,
   "metadata": {},
   "outputs": [],
   "source": [
    "import sys\n",
    "#sys.path\n",
    "sys.path.append(\"/home/leilichuan/machine learning/ML notes/Pattern-Recognition-and-Machine-Learning/\")\n",
    "import matplotlib.animation as animation\n",
    "import matplotlib.pyplot as plt\n",
    "import numpy as np\n",
    "%matplotlib inline\n",
    "from prml.rv import Gaussian, Uniform,multivariate_gaussian\n",
    "from prml.sampling import metropolis, metropolis_hastings, rejection_sampling, sir\n",
    "\n",
    "np.random.seed(666)"
   ]
  },
  {
   "cell_type": "code",
   "execution_count": 10,
   "metadata": {},
   "outputs": [
    {
     "name": "stdout",
     "output_type": "stream",
     "text": [
      "current round 35\n",
      "[ 0.62499289  0.3125065   0.06250061]\n"
     ]
    }
   ],
   "source": [
    "trans_matrix=np.array([[0.9,0.075,0.025],[0.15,0.8,0.05],[0.25,0.25,0.5]])\n",
    "p_z_0=np.array([0.3,0.4,0.3])\n",
    "p_z=[p_z_0]\n",
    "for i in range(100):\n",
    "    p_z_0=p_z_0@trans_matrix\n",
    "    p_z.append(p_z_0)\n",
    "    if np.allclose(p_z[i-1],p_z[i]):\n",
    "        print(\"current round\",i+1)\n",
    "        print(p_z_0)\n",
    "        break\n",
    "    "
   ]
  },
  {
   "cell_type": "code",
   "execution_count": 11,
   "metadata": {},
   "outputs": [
    {
     "name": "stdout",
     "output_type": "stream",
     "text": [
      "current round 33\n",
      "[ 0.62500649  0.31249407  0.06249944]\n"
     ]
    }
   ],
   "source": [
    "trans_matrix=np.array([[0.9,0.075,0.025],[0.15,0.8,0.05],[0.25,0.25,0.5]])\n",
    "p_z_0=np.array([0.7,0.1,0.2])\n",
    "p_z=[p_z_0]\n",
    "for i in range(100):\n",
    "    p_z_0=p_z_0@trans_matrix\n",
    "    p_z.append(p_z_0)\n",
    "    if np.allclose(p_z[i-1],p_z[i]):\n",
    "        print(\"current round\",i+1)\n",
    "        print(p_z_0)\n",
    "        break"
   ]
  },
  {
   "cell_type": "markdown",
   "metadata": {},
   "source": [
    "一般情况下，平稳分布$P^*(z)$和某一个马尔科夫状态转移矩阵T不满足细节平衡条件\n",
    "$$p^*(z)q_k(z|z^{(\\tau)})\\neq p^*(z^{(\\tau)})q_k(z^{(\\tau)}|z)$$\n",
    "为使该条件成立引入$A_k(z^*,z^{(\\tau)})$:\n",
    "$$p^*(z)q_k(z|z^{(\\tau)})A_k(z^*,z^{(\\tau)})=p^*(z^{(\\tau)})q_k(z^{(\\tau)}|z)A_k(z^{(\\tau)},z^*)$$\n"
   ]
  },
  {
   "cell_type": "markdown",
   "metadata": {},
   "source": [
    "基于马尔科夫链的metropolis采样过程：\n",
    "\n",
    "* 设定状态转移矩阵T,设定转移次数阈值$n_1$,需要的样本数量$n_2$\n",
    "    \n",
    "* 从任意简单概率分布采样得到初始状态矩阵$p(z^{(0)})$\n",
    "    \n",
    "* $m=0$到$m=n_1+n_2-1$\n",
    "\n",
    "     * 从条件概率分布$q_k(z^{(m+1)}|z^{(m)})$采样得到样本$z^{(m+1)}$\n",
    "        \n",
    "     * 从均匀分布采样$u-uniform(0,1)$\n",
    "     \n",
    "     *如果$$u<min(1,\\frac{\\tilde p(z^*)}{\\tilde p(z^{(\\tau)})})$$则接受转移$z^{(\\tau)}\\rightarrow z^*$\n",
    "     * 否则不接受转移，$\\tau=max(\\tau-1,0)$\n",
    "* 样本集$(z_{n_1},...z_{n_1+n_2+1})$即为平稳分布对应的样本集"
   ]
  },
  {
   "cell_type": "code",
   "execution_count": 16,
   "metadata": {},
   "outputs": [
    {
     "data": {
      "image/png": "[encoded data removed]",
      "text/plain": [
       "<matplotlib.figure.Figure at 0x7fb7b8bf8c50>"
      ]
     },
     "metadata": {},
     "output_type": "display_data"
    }
   ],
   "source": [
    "def func(x):\n",
    "    return np.exp(-x ** 2) + 3 * np.exp(-(x - 3) ** 2)\n",
    "x = np.linspace(-5, 10, 100)\n",
    "rv = Gaussian(mu=np.array([2.]), var=np.array([2.]))\n",
    "\n",
    "samples = metropolis(func, Gaussian(mu=np.zeros(1), var=np.ones(1)), n=100, downsample=10)\n",
    "plt.plot(x, func(x), label=r\"$\\tilde{p}(z)$\")\n",
    "plt.hist(samples, normed=True, alpha=0.2)\n",
    "plt.scatter(samples, np.random.normal(scale=.03, size=(100, 1)), s=5, label=\"samples\")\n",
    "plt.legend(fontsize=15)\n",
    "plt.show()"
   ]
  },
  {
   "cell_type": "markdown",
   "metadata": {},
   "source": [
    "### 11.2.2Metrppolis-Hasting算法"
   ]
  },
  {
   "cell_type": "markdown",
   "metadata": {},
   "source": [
    "* 设定状态转移矩阵T,设定转移次数阈值$n_1$,需要的样本数量$n_2$\n",
    "    \n",
    "* 从任意简单概率分布采样得到初始状态矩阵$p(z^{(0)})$\n",
    "    \n",
    "* $m=0$到$m=n_1+n_2-1$\n",
    "\n",
    "     * 从条件概率分布$q_k(z^{(m+1)}|z^{(m)})$采样得到样本$z^{(m+1)}$\n",
    "        \n",
    "     * 从均匀分布采样$u-uniform(0,1)$\n",
    "     \n",
    "     *如果$$u<min(1,\\frac{\\tilde p(z^*)q_k(z^{(\\tau)}|z^*)}{\\tilde p(z^{(\\tau)})q_k(z^*|z^{(\\tau)})})$$则接受转移$z^{(\\tau)}\\rightarrow z^*$\n",
    "     * 否则不接受转移，$\\tau=max(\\tau-1,0)$\n",
    "* 样本集$(z_{n_1},...z_{n_1+n_2+1})$即为平稳分布对应的样本集"
   ]
  },
  {
   "cell_type": "code",
   "execution_count": 17,
   "metadata": {},
   "outputs": [],
   "source": [
    "def func(x):\n",
    "    return np.exp(-x ** 2) + 3 * np.exp(-(x - 3) ** 2)\n",
    "x = np.linspace(-5, 10, 100)\n",
    "#提议分布\n",
    "rv = Gaussian(mu=np.array([2.]), var=np.array([2.]))"
   ]
  },
  {
   "cell_type": "code",
   "execution_count": 18,
   "metadata": {},
   "outputs": [
    {
     "data": {
      "image/png": "[encoded data removed]",
      "text/plain": [
       "<matplotlib.figure.Figure at 0x7fb7b54ebd30>"
      ]
     },
     "metadata": {},
     "output_type": "display_data"
    }
   ],
   "source": [
    "samples = metropolis_hastings(func, Gaussian(mu=np.ones(1), var=np.ones(1)), n=100, downsample=10)\n",
    "plt.plot(x, func(x), label=r\"$\\tilde{p}(z)$\")\n",
    "plt.hist(samples, normed=True, alpha=0.2)\n",
    "plt.scatter(samples, np.random.normal(scale=.03, size=(100, 1)), s=5, label=\"samples\")\n",
    "plt.legend(fontsize=15)\n",
    "plt.show()"
   ]
  },
  {
   "cell_type": "markdown",
   "metadata": {},
   "source": [
    "提议分布的具体的选择会对算法的表现产⽣重要的影响。对于连续状态空间来说，⼀个常见\n",
    "的选择是⼀个以当前状态为中⼼的⾼斯分布，这会在确定分布的⽅差参数时需要进⾏⼀个重要\n",
    "的折中。如果⽅差过⼩，那么接受的转移的⽐例会很⾼，但是遍历状态空间的形式是⼀个缓慢\n",
    "的随机游⾛过程，导致较长的时间开销。然⽽，如果⽅差过⼤，那么拒绝率会很⾼，因为在我\n",
    "们考虑的这种复杂问题中，许多的步骤会到达$p(z)$很低的状态。"
   ]
  },
  {
   "cell_type": "code",
   "execution_count": 37,
   "metadata": {},
   "outputs": [],
   "source": [
    "import math\n",
    "rv=multivariate_gaussian.MultivariateGaussian(np.array([5,-1]),np.array([[1,0.5],[0.5,2]]))\n",
    "def p_ygivenx(x,m1,m2,s1,s2):\n",
    "    return(random.normalvariate(m2+rho*s2/s1*(x-m1),math.sqrt(1-rho**2)*s2))\n",
    "def p_xgiveny(y,m1,m2,s1,s2):\n",
    "    return(random.normalvariate(m1+rho*s1/s2*(y-m2),math.sqrt(1-rho**2)*s1))\n",
    "N=5000\n",
    "K=20\n",
    "x_res=[]\n",
    "y_res=[]\n",
    "z_res=[]\n",
    "m1=5\n",
    "m2=-1\n",
    "s1=1\n",
    "s2=2\n",
    "\n",
    "rho=0.5\n",
    "y=m2\n",
    "for i in range(N):\n",
    "    for j in range(K):\n",
    "        x=p_xgiveny(y,m1,m2,s1,s2)\n",
    "        y=p_ygivenx(x,m1,m2,s1,s2)\n",
    "        z=rv._pdf([x,y])\n",
    "        x_res.append(x)\n",
    "        y_res.append(y)\n",
    "        z_res.append(z)"
   ]
  },
  {
   "cell_type": "code",
   "execution_count": 39,
   "metadata": {},
   "outputs": [
    {
     "data": {
      "text/plain": [
       "(array([  2.68210561e-05,   0.00000000e+00,   2.68210561e-05,\n",
       "          1.07284225e-04,   2.95031618e-04,   6.43705348e-04,\n",
       "          8.85094853e-04,   1.55562126e-03,   2.60164245e-03,\n",
       "          5.25692700e-03,   8.52909585e-03,   1.24181490e-02,\n",
       "          2.07058553e-02,   2.93422354e-02,   4.25381950e-02,\n",
       "          5.55732283e-02,   7.41602202e-02,   9.69044759e-02,\n",
       "          1.18495426e-01,   1.42178419e-01,   1.62347853e-01,\n",
       "          1.79727897e-01,   1.91287772e-01,   1.97215226e-01,\n",
       "          1.98851310e-01,   1.89678509e-01,   1.76589834e-01,\n",
       "          1.60604484e-01,   1.40381408e-01,   1.18066289e-01,\n",
       "          9.56707073e-02,   7.45893571e-02,   5.92745341e-02,\n",
       "          4.14921739e-02,   2.95836249e-02,   2.04912869e-02,\n",
       "          1.30618543e-02,   8.63638008e-03,   5.25692700e-03,\n",
       "          3.11124251e-03,   1.93111604e-03,   1.04602119e-03,\n",
       "          3.75494786e-04,   3.48673730e-04,   1.34105281e-04,\n",
       "          5.36421123e-05,   2.68210561e-05,   0.00000000e+00,\n",
       "          0.00000000e+00,   2.68210561e-05]),\n",
       " array([-9.94280777, -9.56996638, -9.19712498, -8.82428358, -8.45144219,\n",
       "        -8.07860079, -7.7057594 , -7.332918  , -6.96007661, -6.58723521,\n",
       "        -6.21439382, -5.84155242, -5.46871103, -5.09586963, -4.72302823,\n",
       "        -4.35018684, -3.97734544, -3.60450405, -3.23166265, -2.85882126,\n",
       "        -2.48597986, -2.11313847, -1.74029707, -1.36745568, -0.99461428,\n",
       "        -0.62177289, -0.24893149,  0.12390991,  0.4967513 ,  0.8695927 ,\n",
       "         1.24243409,  1.61527549,  1.98811688,  2.36095828,  2.73379967,\n",
       "         3.10664107,  3.47948246,  3.85232386,  4.22516526,  4.59800665,\n",
       "         4.97084805,  5.34368944,  5.71653084,  6.08937223,  6.46221363,\n",
       "         6.83505502,  7.20789642,  7.58073781,  7.95357921,  8.3264206 ,\n",
       "         8.699262  ]),\n",
       " <a list of 50 Patch objects>)"
      ]
     },
     "execution_count": 39,
     "metadata": {},
     "output_type": "execute_result"
    },
    {
     "data": {
      "image/png": "[encoded data removed]",
      "text/plain": [
       "<matplotlib.figure.Figure at 0x7fb7b54210f0>"
      ]
     },
     "metadata": {},
     "output_type": "display_data"
    }
   ],
   "source": [
    "num_bins=50\n",
    "plt.hist(x_res,num_bins,normed=1,facecolor='green',alpha=0.5)\n",
    "plt.hist(y_res,num_bins,normed=1,facecolor='green',alpha=0.5)"
   ]
  },
  {
   "cell_type": "code",
   "execution_count": 21,
   "metadata": {},
   "outputs": [],
   "source": [
    "import random"
   ]
  },
  {
   "cell_type": "code",
   "execution_count": 30,
   "metadata": {},
   "outputs": [],
   "source": []
  },
  {
   "cell_type": "code",
   "execution_count": 33,
   "metadata": {},
   "outputs": [
    {
     "name": "stdout",
     "output_type": "stream",
     "text": [
      "<bound method MultivariateGaussian._pdf of MultivariateGaussian(\n",
      "    mu=[ 5 -1]\n",
      "    cov=[[ 1.   0.5]\n",
      " [ 0.5  2. ]]\n",
      ")>\n"
     ]
    }
   ],
   "source": [
    "print(rv._pdf())"
   ]
  },
  {
   "cell_type": "code",
   "execution_count": null,
   "metadata": {},
   "outputs": [],
   "source": []
  }
 ],
 "metadata": {
  "kernelspec": {
   "display_name": "Python 3",
   "language": "python",
   "name": "python3"
  },
  "language_info": {
   "codemirror_mode": {
    "name": "ipython",
    "version": 3
   },
   "file_extension": ".py",
   "mimetype": "text/x-python",
   "name": "python",
   "nbconvert_exporter": "python",
   "pygments_lexer": "ipython3",
   "version": "3.6.1"
  }
 },
 "nbformat": 4,
 "nbformat_minor": 2
}
