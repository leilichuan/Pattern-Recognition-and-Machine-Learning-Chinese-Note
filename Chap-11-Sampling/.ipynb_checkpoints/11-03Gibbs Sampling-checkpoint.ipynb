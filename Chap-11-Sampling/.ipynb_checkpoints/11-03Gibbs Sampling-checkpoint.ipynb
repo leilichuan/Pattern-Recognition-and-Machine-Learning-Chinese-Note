{
 "cells": [
  {
   "cell_type": "markdown",
   "metadata": {},
   "source": [
    "## 吉布斯采样"
   ]
  },
  {
   "cell_type": "markdown",
   "metadata": {},
   "source": [
    "**吉布斯采样**可以被看做Metropolis-Hastings算法的⼀个具体的情形。吉布斯采样的每个步骤涉及到将⼀个变量的值替换为以剩余变量的值为条件，从这个概率分布中抽取的那个变量的值。因此我们将$z_i$替换为从概率分布$p(z_i|z_{\\setminus i})$中抽取的值，这个步骤要么按照某种特定的\n",
    "顺序在变量之间进⾏循环，要么每⼀步中按照某个概率分布随机地选择⼀个变量进⾏更新。\n"
   ]
  },
  {
   "cell_type": "markdown",
   "metadata": {},
   "source": [
    "n维吉布斯采样\n",
    "\n",
    "* 初始化$\\{z_i:i=1,...,M\\}$\n",
    "* 对于$\\tau=1,...,T$:\n",
    "     * 采样$z_1^{\\tau+1}\\sim p(z_1|z_2^{\\tau},z_3^{\\tau},...z_M^{\\tau})$。\n",
    "     * 采样$z_2^{\\tau+1}\\sim p(z_2|z_1^{\\tau+1},z_3^{\\tau},...z_M^{\\tau})$。\n",
    "     * $\\vdots$  \n",
    "     * 采样$z_j^{\\tau+1}\\sim p(z_j|z_1^{\\tau+1},...z_{j-1}^{\\tau+1},z_{j+1}^{\\tau},...,z_M^{\\tau})$。\n",
    "     * $\\vdots$   \n",
    "     * 采样$z_M^{\\tau+1}\\sim p(z_M|z_1^{\\tau+1},z_2^{\\tau+1},...,z_{m-1}^{\\tau+1})$。"
   ]
  },
  {
   "cell_type": "markdown",
   "metadata": {},
   "source": [
    "吉布斯采样步骤看成Metropolis-Hastings算法的⼀个特定的情况。若⼀个Metropolis-Hastings采样的步骤，它涉及到变量$z_k$，同时保持剩余的变量$z_{\\setminus k}$不变，从$z$到$z^*$的转移概率为$q_k(z^*|z)=p(z_k^*|z_{\\setminus k})$。\n",
    "\n",
    "因为在采样过程中向量的各个元素不变，所以$z^*_{\\setminus k}=z_{\\setminus k}$,又由$p(z)=p(z|z_{\\setminus k})p(z_{\\setminus k})$,那么Metropolis-Hastings算法中的接受概率的因⼦为:\n",
    "$$A(z^*,z)=\\frac{p(z^*)q_k(z|z*)}{p(z)q_k(z^*|z)}=\\frac{p(z_k^*|z^*_{\\setminus k})p(z^*_{\\setminus k})p(z_k|z^*_{\\setminus k})}\n",
    "{p(z_k|z_{\\setminus k})p(z_{\\setminus k})p(z^*|z_{\\setminus k})}=1$$\n",
    "\n",
    "所以Metropolis-Hastings步骤总是被接受的"
   ]
  },
  {
   "cell_type": "code",
   "execution_count": 40,
   "metadata": {},
   "outputs": [],
   "source": [
    "import matplotlib.pyplot as plt\n",
    "import numpy as np\n",
    "import scipy.stats as st\n",
    "\n",
    "def finite_mixture_model():\n",
    "    # Generate some data\n",
    "    k = 3\n",
    "    # target distribution:3 2D-Gaussian distribution\n",
    "    mu = np.array([[2,3],[6,4],[4,5]])\n",
    "    cov = np.array([[[1,0],[0,1]],\n",
    "                   [[1,1],[-1,1]],\n",
    "                   [[1,-1],[0,1]]])\n",
    "    #sampling frequence\n",
    "    freq = [200, 100, 50]\n",
    "    colors = ['ro', 'bo', 'go']\n",
    "\n",
    "    X = np.zeros((0,2))\n",
    "\n",
    "    for i in range(k):\n",
    "        vals = np.random.multivariate_normal(mu[i], cov[i], freq[i])\n",
    "        plt.plot(vals[:,0], vals[:,1], colors[i])\n",
    "        X = np.vstack([X, vals])\n",
    "        print(X.shape)\n",
    "    plt.show()\n",
    "\n",
    "    # Constants\n",
    "    alpha = np.ones(k)/k\n",
    "    sigma = 1\n",
    "    rho = 1\n",
    "    n,d = X.shape\n",
    "\n",
    "    # Initialize variables\n",
    "    pi = np.ones(k)/k\n",
    "    z = np.random.multinomial(1, pi, size=n)\n",
    "    mu = np.zeros((k, d))\n",
    "\n",
    "    # Gibbs Sampler\n",
    "    num_iter = 1000\n",
    "    burn_in = 200\n",
    "    samples = []\n",
    "    for count in range(num_iter):\n",
    "        #print (count)\n",
    "\n",
    "        # Update pi\n",
    "        n_k = np.sum(z.T, axis=1, dtype=float)\n",
    "        pi = np.random.dirichlet(alpha + n_k, 1)\n",
    "\n",
    "        # Update mean and covariance of condotional Gaussian distribution\n",
    "        x_hat = np.dot(z.T, X) / n_k[:, None]\n",
    "        mu_hat = x_hat/(1+sigma/(rho*n_k[:, None]))\n",
    "        cov_hat = sigma*rho/(sigma+rho*n_k)\n",
    "        mu = np.array([np.random.multivariate_normal(mu_hat[i], cov_hat[i]*np.eye(d), 1)[0] \\\n",
    "                       for i in range(k)])\n",
    "\n",
    "        # Update z\n",
    "        z_hat = np.zeros((n,k))\n",
    "        for i in range(n):\n",
    "            for c in range(k):\n",
    "                z_hat[i,c] = np.prod(st.norm.pdf(X[i], mu[c], rho*np.ones(d)))\n",
    "        z_hat = (z_hat*pi[:, None])[0]\n",
    "        for i,x in enumerate(z_hat):\n",
    "            z[i] = np.random.multinomial(1, x/sum(x))\n",
    "\n",
    "        samples.append(mu)\n",
    "\n",
    "    # Remove burn in\n",
    "    samples = np.array(samples[burn_in:])\n",
    "\n",
    "    # Find the median of each mu\n",
    "    medians = np.median(samples, axis=0)\n",
    "    plt.plot(medians[0,0], medians[0,1], 'rs')\n",
    "    plt.plot(medians[1,0], medians[1,1], 'gs')\n",
    "    plt.plot(medians[2,0], medians[2,1], 'bs')\n",
    "    plt.show()\n"
   ]
  },
  {
   "cell_type": "code",
   "execution_count": 41,
   "metadata": {},
   "outputs": [
    {
     "name": "stdout",
     "output_type": "stream",
     "text": [
      "(200, 2)\n",
      "(300, 2)\n",
      "(350, 2)\n"
     ]
    },
    {
     "name": "stderr",
     "output_type": "stream",
     "text": [
      "/home/leilichuan/anaconda3/lib/python3.6/site-packages/ipykernel_launcher.py:20: RuntimeWarning: covariance is not positive-semidefinite.\n"
     ]
    },
    {
     "data": {
      "image/png": "[encoded data removed]",
      "text/plain": [
       "<matplotlib.figure.Figure at 0x7f4db876f400>"
      ]
     },
     "metadata": {},
     "output_type": "display_data"
    },
    {
     "data": {
      "image/png": "[encoded data removed]",
      "text/plain": [
       "<matplotlib.figure.Figure at 0x7f4db875ce48>"
      ]
     },
     "metadata": {},
     "output_type": "display_data"
    }
   ],
   "source": [
    "finite_mixture_model()"
   ]
  },
  {
   "cell_type": "code",
   "execution_count": null,
   "metadata": {},
   "outputs": [],
   "source": []
  }
 ],
 "metadata": {
  "kernelspec": {
   "display_name": "Python 3",
   "language": "python",
   "name": "python3"
  },
  "language_info": {
   "codemirror_mode": {
    "name": "ipython",
    "version": 3
   },
   "file_extension": ".py",
   "mimetype": "text/x-python",
   "name": "python",
   "nbconvert_exporter": "python",
   "pygments_lexer": "ipython3",
   "version": "3.6.1"
  }
 },
 "nbformat": 4,
 "nbformat_minor": 2
}
